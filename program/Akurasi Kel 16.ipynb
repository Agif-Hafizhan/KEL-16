{
 "cells": [
  {
   "cell_type": "code",
   "execution_count": 2,
   "id": "8ac739f2",
   "metadata": {
    "scrolled": false
   },
   "outputs": [
    {
     "data": {
      "text/html": [
       "<div>\n",
       "<style scoped>\n",
       "    .dataframe tbody tr th:only-of-type {\n",
       "        vertical-align: middle;\n",
       "    }\n",
       "\n",
       "    .dataframe tbody tr th {\n",
       "        vertical-align: top;\n",
       "    }\n",
       "\n",
       "    .dataframe thead th {\n",
       "        text-align: right;\n",
       "    }\n",
       "</style>\n",
       "<table border=\"1\" class=\"dataframe\">\n",
       "  <thead>\n",
       "    <tr style=\"text-align: right;\">\n",
       "      <th></th>\n",
       "      <th>Jurusan</th>\n",
       "      <th>Matematika</th>\n",
       "      <th>Bahasa Inggris</th>\n",
       "      <th>Bahasa Indonesia</th>\n",
       "      <th>Prestasi</th>\n",
       "    </tr>\n",
       "  </thead>\n",
       "  <tbody>\n",
       "    <tr>\n",
       "      <th>0</th>\n",
       "      <td>IPA</td>\n",
       "      <td>92.0</td>\n",
       "      <td>86.0</td>\n",
       "      <td>88.0</td>\n",
       "      <td>Berprestasi</td>\n",
       "    </tr>\n",
       "    <tr>\n",
       "      <th>1</th>\n",
       "      <td>IPS</td>\n",
       "      <td>90.0</td>\n",
       "      <td>86.0</td>\n",
       "      <td>85.0</td>\n",
       "      <td>Berprestasi</td>\n",
       "    </tr>\n",
       "    <tr>\n",
       "      <th>2</th>\n",
       "      <td>BAHASA</td>\n",
       "      <td>82.0</td>\n",
       "      <td>87.0</td>\n",
       "      <td>92.0</td>\n",
       "      <td>Tidakberprestasi</td>\n",
       "    </tr>\n",
       "    <tr>\n",
       "      <th>3</th>\n",
       "      <td>IPA</td>\n",
       "      <td>93.0</td>\n",
       "      <td>82.0</td>\n",
       "      <td>85.0</td>\n",
       "      <td>Berprestasi</td>\n",
       "    </tr>\n",
       "    <tr>\n",
       "      <th>4</th>\n",
       "      <td>IPS</td>\n",
       "      <td>86.0</td>\n",
       "      <td>85.0</td>\n",
       "      <td>88.0</td>\n",
       "      <td>Berprestasi</td>\n",
       "    </tr>\n",
       "  </tbody>\n",
       "</table>\n",
       "</div>"
      ],
      "text/plain": [
       "  Jurusan  Matematika  Bahasa Inggris  Bahasa Indonesia         Prestasi \n",
       "0     IPA        92.0            86.0              88.0       Berprestasi\n",
       "1     IPS        90.0            86.0              85.0       Berprestasi\n",
       "2  BAHASA        82.0            87.0              92.0  Tidakberprestasi\n",
       "3     IPA        93.0            82.0              85.0       Berprestasi\n",
       "4     IPS        86.0            85.0              88.0       Berprestasi"
      ]
     },
     "execution_count": 2,
     "metadata": {},
     "output_type": "execute_result"
    }
   ],
   "source": [
    "import pandas as pd\n",
    "import numpy as np\n",
    "\n",
    "data='DataLengkap2.csv'\n",
    "df=pd.read_csv(data)\n",
    "df.head()"
   ]
  },
  {
   "cell_type": "code",
   "execution_count": 3,
   "id": "1e44c0e7",
   "metadata": {},
   "outputs": [
    {
     "name": "stdout",
     "output_type": "stream",
     "text": [
      "0        IPA\n",
      "1        IPS\n",
      "2     BAHASA\n",
      "3        IPA\n",
      "4        IPS\n",
      "       ...  \n",
      "66    BAHASA\n",
      "67       IPS\n",
      "68       IPS\n",
      "69       NaN\n",
      "70       NaN\n",
      "Name: Jurusan, Length: 71, dtype: object\n",
      "[2 3 0 2 3 3 2 2 3 3 3 3 0 0 2 2 3 3 3 3 0 0 0 0 2 3 0 0 0 0 2 0 0 0 3 0 2\n",
      " 2 2 2 0 3 0 3 3 0 1 3 3 0 0 0 2 2 2 2 2 2 2 2 0 3 3 0 0 0 0 3 3 4 4]\n",
      "0     92.0\n",
      "1     90.0\n",
      "2     82.0\n",
      "3     93.0\n",
      "4     86.0\n",
      "      ... \n",
      "66    89.0\n",
      "67    88.0\n",
      "68    85.0\n",
      "69     NaN\n",
      "70     NaN\n",
      "Name: Matematika, Length: 71, dtype: float64\n",
      "[19 17  9 20 13 18 15 11  6 10  9 10  7  9 16 15 12 17  9 20 13 18 15 11\n",
      "  6 10  9 15 12 15 12 19 12 15 11 17 15 12  8 11  1 21  2  0  5 13 13 14\n",
      "  9 12 10  7  9 16 15 12  3  4 13 13 14  9 12  4  7  9 16 15 12 22 22]\n",
      "0     86.0\n",
      "1     86.0\n",
      "2     87.0\n",
      "3     82.0\n",
      "4     85.0\n",
      "      ... \n",
      "66    86.0\n",
      "67    91.0\n",
      "68    88.0\n",
      "69     NaN\n",
      "70     NaN\n",
      "Name: Bahasa Inggris, Length: 71, dtype: float64\n",
      "0     86.0\n",
      "1     86.0\n",
      "2     87.0\n",
      "3     82.0\n",
      "4     85.0\n",
      "      ... \n",
      "66    86.0\n",
      "67    91.0\n",
      "68    88.0\n",
      "69     NaN\n",
      "70     NaN\n",
      "Name: Bahasa Inggris, Length: 71, dtype: float64\n",
      "0     88.0\n",
      "1     85.0\n",
      "2     92.0\n",
      "3     85.0\n",
      "4     88.0\n",
      "      ... \n",
      "66    84.0\n",
      "67    89.0\n",
      "68    70.0\n",
      "69     NaN\n",
      "70     NaN\n",
      "Name: Bahasa Indonesia, Length: 71, dtype: float64\n",
      "[21 18 25 18 21 17 23 21 18 14 17 10 21  0  3  5  4  2  6 20 12 15 22 21\n",
      " 18 23 15 26 19 24 10  7 21 18 25 18 21 17 23 21 18 14 17 28 11 27  9  6\n",
      " 19 19 20 15 18 16 13  1 22 18 25 18 21 17 23 21 18 14 17 22  8 29 29]\n",
      "0          Berprestasi\n",
      "1          Berprestasi\n",
      "2     Tidakberprestasi\n",
      "3          Berprestasi\n",
      "4          Berprestasi\n",
      "            ...       \n",
      "66         Berprestasi\n",
      "67         Berprestasi\n",
      "68    Tidakberprestasi\n",
      "69                 NaN\n",
      "70                 NaN\n",
      "Name: Prestasi , Length: 71, dtype: object\n",
      "[0 0 1 0 0 0 1 1 1 1 1 1 1 1 0 1 1 1 1 1 0 1 1 0 1 0 1 0 1 0 1 1 1 0 1 0 0\n",
      " 0 1 0 1 0 1 1 1 0 0 1 1 0 1 1 1 0 1 1 1 1 1 1 0 1 0 1 1 0 0 0 1 2 2]\n"
     ]
    }
   ],
   "source": [
    "from sklearn import preprocessing \n",
    "le = preprocessing.LabelEncoder()\n",
    "Jurusan=df.iloc[:,0]\n",
    "print(Jurusan)\n",
    "en_Jurusan=le.fit_transform(Jurusan)\n",
    "print(en_Jurusan)\n",
    "\n",
    "Matematika=df.iloc[:,1]\n",
    "print(Matematika)\n",
    "en_Matematika=le.fit_transform(Matematika)\n",
    "print(en_Matematika)\n",
    "\n",
    "BahasaInggris=df.iloc[:,2]\n",
    "print(BahasaInggris)\n",
    "en_BahasaInggris=le.fit_transform(BahasaInggris)\n",
    "print(BahasaInggris)\n",
    "\n",
    "BahasaIndonesia=df.iloc[:,3]\n",
    "print(BahasaIndonesia)\n",
    "en_BahasaIndonesia=le.fit_transform(BahasaIndonesia)\n",
    "print(en_BahasaIndonesia)\n",
    "\n",
    "Prestasi=df.iloc[:,4]\n",
    "print(Prestasi)\n",
    "en_Prestasi=le.fit_transform(Prestasi)\n",
    "print(en_Prestasi)\n"
   ]
  },
  {
   "cell_type": "code",
   "execution_count": 4,
   "id": "395ec53b",
   "metadata": {
    "scrolled": true
   },
   "outputs": [
    {
     "name": "stdout",
     "output_type": "stream",
     "text": [
      "((2, 19, 14, 21, 0), (3, 17, 14, 18, 0), (0, 9, 15, 25, 1), (2, 20, 10, 18, 0), (3, 13, 13, 21, 0), (3, 18, 11, 17, 0), (2, 15, 8, 23, 1), (2, 11, 10, 21, 1), (3, 6, 17, 18, 1), (3, 10, 16, 14, 1), (3, 9, 13, 17, 1), (3, 10, 5, 10, 1), (0, 7, 6, 21, 1), (0, 9, 13, 0, 1), (2, 16, 22, 3, 0), (2, 15, 0, 5, 1), (3, 12, 4, 4, 1), (3, 17, 2, 2, 1), (3, 9, 1, 6, 1), (3, 20, 3, 20, 1), (0, 13, 22, 12, 0), (0, 18, 6, 15, 1), (0, 15, 4, 22, 1), (0, 11, 16, 21, 0), (2, 6, 13, 18, 1), (3, 10, 20, 23, 0), (0, 9, 13, 15, 1), (0, 15, 16, 26, 0), (0, 12, 12, 19, 1), (0, 15, 18, 24, 0), (2, 12, 16, 10, 1), (0, 19, 13, 7, 1), (0, 12, 9, 21, 1), (0, 15, 12, 18, 0), (3, 11, 23, 25, 1), (0, 17, 16, 18, 0), (2, 15, 13, 21, 0), (2, 12, 20, 17, 0), (2, 8, 13, 23, 1), (2, 11, 16, 21, 0), (0, 1, 12, 18, 1), (3, 21, 18, 14, 0), (0, 2, 16, 17, 1), (3, 0, 13, 28, 1), (3, 5, 9, 11, 1), (0, 13, 12, 27, 0), (1, 13, 20, 9, 0), (3, 14, 18, 6, 1), (3, 9, 10, 19, 1), (0, 12, 21, 19, 0), (0, 10, 14, 20, 1), (0, 7, 19, 15, 1), (2, 9, 2, 18, 1), (2, 16, 12, 16, 0), (2, 15, 7, 13, 1), (2, 12, 11, 1, 1), (2, 3, 10, 22, 1), (2, 4, 11, 18, 1), (2, 13, 8, 25, 1), (2, 13, 10, 18, 1), (0, 14, 17, 21, 0), (3, 9, 16, 17, 1), (3, 12, 20, 23, 0), (0, 4, 18, 21, 1), (0, 7, 10, 18, 1), (0, 9, 21, 14, 0), (0, 16, 14, 17, 0), (3, 15, 19, 22, 0), (3, 12, 16, 8, 1), (4, 22, 23, 29, 2), (4, 22, 23, 29, 2))\n"
     ]
    }
   ],
   "source": [
    "features = zip(en_Jurusan,en_Matematika,en_BahasaInggris,en_BahasaIndonesia,en_Prestasi)\n",
    "features2= tuple(features)\n",
    "print (features2)"
   ]
  },
  {
   "cell_type": "code",
   "execution_count": 5,
   "id": "cb234673",
   "metadata": {
    "scrolled": true
   },
   "outputs": [
    {
     "name": "stdout",
     "output_type": "stream",
     "text": [
      "((2, 19, 14, 21, 0), (3, 17, 14, 18, 0), (0, 9, 15, 25, 1), (2, 20, 10, 18, 0), (3, 13, 13, 21, 0), (3, 18, 11, 17, 0), (2, 15, 8, 23, 1), (2, 11, 10, 21, 1), (3, 6, 17, 18, 1), (3, 10, 16, 14, 1), (3, 9, 13, 17, 1), (3, 10, 5, 10, 1), (0, 7, 6, 21, 1), (0, 9, 13, 0, 1), (2, 16, 22, 3, 0), (2, 15, 0, 5, 1), (3, 12, 4, 4, 1), (3, 17, 2, 2, 1), (3, 9, 1, 6, 1), (3, 20, 3, 20, 1), (0, 13, 22, 12, 0), (0, 18, 6, 15, 1), (0, 15, 4, 22, 1), (0, 11, 16, 21, 0), (2, 6, 13, 18, 1), (3, 10, 20, 23, 0), (0, 9, 13, 15, 1), (0, 15, 16, 26, 0), (0, 12, 12, 19, 1), (0, 15, 18, 24, 0), (2, 12, 16, 10, 1), (0, 19, 13, 7, 1), (0, 12, 9, 21, 1), (0, 15, 12, 18, 0), (3, 11, 23, 25, 1), (0, 17, 16, 18, 0), (2, 15, 13, 21, 0), (2, 12, 20, 17, 0), (2, 8, 13, 23, 1), (2, 11, 16, 21, 0), (0, 1, 12, 18, 1), (3, 21, 18, 14, 0), (0, 2, 16, 17, 1), (3, 0, 13, 28, 1), (3, 5, 9, 11, 1), (0, 13, 12, 27, 0), (1, 13, 20, 9, 0), (3, 14, 18, 6, 1), (3, 9, 10, 19, 1), (0, 12, 21, 19, 0), (0, 10, 14, 20, 1), (0, 7, 19, 15, 1), (2, 9, 2, 18, 1), (2, 16, 12, 16, 0), (2, 15, 7, 13, 1), (2, 12, 11, 1, 1), (2, 3, 10, 22, 1), (2, 4, 11, 18, 1), (2, 13, 8, 25, 1), (2, 13, 10, 18, 1), (0, 14, 17, 21, 0), (3, 9, 16, 17, 1), (3, 12, 20, 23, 0), (0, 4, 18, 21, 1), (0, 7, 10, 18, 1), (0, 9, 21, 14, 0), (0, 16, 14, 17, 0), (3, 15, 19, 22, 0), (3, 12, 16, 8, 1), (4, 22, 23, 29, 2), (4, 22, 23, 29, 2))\n",
      "[0 0 1 0 0 0 1 1 1 1 1 1 1 1 0 1 1 1 1 1 0 1 1 0 1 0 1 0 1 0 1 1 1 0 1 0 0\n",
      " 0 1 0 1 0 1 1 1 0 0 1 1 0 1 1 1 0 1 1 1 1 1 1 0 1 0 1 1 0 0 0 1 2 2]\n"
     ]
    }
   ],
   "source": [
    "x=features2\n",
    "y=en_Prestasi\n",
    "print(x)\n",
    "print(y)"
   ]
  },
  {
   "cell_type": "code",
   "execution_count": 28,
   "id": "1337301b",
   "metadata": {
    "scrolled": false
   },
   "outputs": [],
   "source": [
    "from sklearn.model_selection import train_test_split\n",
    "x_train, x_test, y_train, y_test = train_test_split(x,y, test_size=0.30, random_state=0)"
   ]
  },
  {
   "cell_type": "code",
   "execution_count": 29,
   "id": "8bd203c1",
   "metadata": {},
   "outputs": [
    {
     "name": "stdout",
     "output_type": "stream",
     "text": [
      "[0 0 1 0 0 0 1 1 1 1 1 1 1 1 0 1 1 1 1 1 0 1 1 0 1 0 1 0 1 0 1 1 1 0 1 0 0\n",
      " 0 1 0 1 0 1 1 1 0 0 1 1 0 1 1 1 0 1 1 1 1 1 1 0 1 0 1 1 0 0 0 1 2 2]\n"
     ]
    }
   ],
   "source": [
    "from sklearn.naive_bayes import GaussianNB\n",
    "model=GaussianNB()\n",
    "nbtrain = model.fit(x_train, y_train)\n",
    "y_pred = model.predict(x_test)\n",
    "print(predicted)"
   ]
  },
  {
   "cell_type": "code",
   "execution_count": 31,
   "id": "218447ba",
   "metadata": {
    "scrolled": false
   },
   "outputs": [
    {
     "name": "stdout",
     "output_type": "stream",
     "text": [
      "Accuracy 0.9090909090909091\n"
     ]
    }
   ],
   "source": [
    "from sklearn import metrics \n",
    "print(\"Accuracy\", metrics.accuracy_score(y_test,y_pred))"
   ]
  },
  {
   "cell_type": "code",
   "execution_count": null,
   "id": "e2a7324d",
   "metadata": {},
   "outputs": [],
   "source": []
  }
 ],
 "metadata": {
  "kernelspec": {
   "display_name": "Python 3",
   "language": "python",
   "name": "python3"
  }
 },
 "nbformat": 4,
 "nbformat_minor": 5
}
